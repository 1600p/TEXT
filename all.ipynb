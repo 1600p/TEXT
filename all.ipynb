{
 "cells": [
  {
   "cell_type": "code",
   "execution_count": 2,
   "metadata": {
    "collapsed": true
   },
   "outputs": [
    {
     "name": "stdout",
     "output_type": "stream",
     "text": [
      "        id  sentiment                                             review\n0  3906_10          1  This has to be the funniest stand up comedy I ...\n1   6725_9          1  Noll's comfortable way of rolling out blunt co...\n2   5775_3          0  They're showing this on some off-network. It's...\n3    827_4          0  Blazing saddles! It's a fight between two estr...\n4  11821_2          0  Encouraged by the positive comments about this...\n<class 'pandas.core.frame.DataFrame'>\nRangeIndex: 24500 entries, 0 to 24499\nData columns (total 3 columns):\nid           24500 non-null object\nsentiment    24500 non-null int64\nreview       24500 non-null object\ndtypes: int64(1), object(2)\nmemory usage: 574.3+ KB\nNone\n"
     ]
    }
   ],
   "source": [
    "import pandas as pd\n",
    "\n",
    "\n",
    "df_train = pd.read_csv('labeledTrainData.tsv',sep='\t')\n",
    "print(df_train.head())\n",
    "print(df_train.info())"
   ]
  },
  {
   "cell_type": "code",
   "execution_count": 3,
   "metadata": {},
   "outputs": [],
   "source": [
    "from sklearn.feature_extraction.text import TfidfVectorizer\n",
    "from sklearn.model_selection import train_test_split\n",
    "from sklearn import metrics\n",
    "\n",
    "tfidf = TfidfVectorizer(stop_words='english', min_df=2, max_df=0.95, max_features=5000)\n",
    "X = df_train['review']\n",
    "y = df_train['sentiment']\n",
    "X_train, X_test, y_train, y_test = train_test_split(X, y, test_size=0.2, random_state=42)\n",
    "X_train_tfidf = tfidf.fit_transform(X_train)\n",
    "X_test_tfidf = tfidf.transform(X_test)"
   ]
  },
  {
   "cell_type": "code",
   "execution_count": 5,
   "metadata": {},
   "outputs": [
    {
     "name": "stderr",
     "output_type": "stream",
     "text": [
      "C:\\Users\\87294\\Anaconda3\\lib\\site-packages\\sklearn\\linear_model\\logistic.py:432: FutureWarning: Default solver will be changed to 'lbfgs' in 0.22. Specify a solver to silence this warning.\n  FutureWarning)\n"
     ]
    },
    {
     "data": {
      "text/plain": [
       "0.8840322898208308"
      ]
     },
     "execution_count": 5,
     "metadata": {},
     "output_type": "execute_result"
    }
   ],
   "source": [
    "from sklearn.linear_model import LogisticRegression\n",
    "\n",
    "\n",
    "clf = LogisticRegression()\n",
    "clf.fit(X_train_tfidf, y_train)\n",
    "y_pred = clf.predict(X_test_tfidf)\n",
    "metrics.f1_score(y_test, y_pred)\n"
   ]
  },
  {
   "cell_type": "code",
   "execution_count": 8,
   "metadata": {},
   "outputs": [
    {
     "name": "stderr",
     "output_type": "stream",
     "text": [
      "C:\\Users\\87294\\Anaconda3\\lib\\site-packages\\sklearn\\linear_model\\logistic.py:432: FutureWarning: Default solver will be changed to 'lbfgs' in 0.22. Specify a solver to silence this warning.\n  FutureWarning)\n"
     ]
    }
   ],
   "source": [
    "X_all = tfidf.fit_transform(X)\n",
    "clf.fit(X_all, y)\n",
    "df_test = pd.read_csv('labeledTrainData.tsv',sep='\t')\n",
    "with open('submission.txt', 'w', encoding='utf-8') as f:\n",
    "    X_test_tfidf_new = tfidf.transform(df_test['review'])\n",
    "    y_pred_new = clf.predict_proba(X_test_tfidf_new)\n",
    "    for i in y_pred_new:\n",
    "        f.write(str(i[1]) + '\\n')\n",
    "        "
   ]
  },
  {
   "cell_type": "code",
   "execution_count": null,
   "metadata": {},
   "outputs": [],
   "source": []
  }
 ],
 "metadata": {
  "kernelspec": {
   "display_name": "Python 2",
   "language": "python",
   "name": "python2"
  },
  "language_info": {
   "codemirror_mode": {
    "name": "ipython",
    "version": 2
   },
   "file_extension": ".py",
   "mimetype": "text/x-python",
   "name": "python",
   "nbconvert_exporter": "python",
   "pygments_lexer": "ipython2",
   "version": "2.7.6"
  }
 },
 "nbformat": 4,
 "nbformat_minor": 0
}
